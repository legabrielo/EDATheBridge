{
 "cells": [
  {
   "cell_type": "code",
   "execution_count": 6,
   "metadata": {},
   "outputs": [],
   "source": [
    "import pandas as pd \n",
    "import numpy as np \n",
    "import matplotlib as plt"
   ]
  },
  {
   "cell_type": "code",
   "execution_count": 7,
   "metadata": {},
   "outputs": [],
   "source": [
    "appearances = pd.read_csv(\"C:\\\\Users\\\\Gabriel Castillo\\\\Desktop\\\\GITHUB GABRIEL\\\\EDA\\\\EDATheBridge\\\\Futbol\\\\data\\\\appearances.csv\")\n",
    "clubs = pd.read_csv(\"C:\\\\Users\\\\Gabriel Castillo\\\\Desktop\\\\GITHUB GABRIEL\\\\EDA\\\\EDATheBridge\\\\Futbol\\\\data\\\\clubs.csv\")\n",
    "competitions = pd.read_csv(\"C:\\\\Users\\\\Gabriel Castillo\\\\Desktop\\\\GITHUB GABRIEL\\\\EDA\\\\EDATheBridge\\\\Futbol\\\\data\\\\competitions.csv\")\n",
    "games = pd.read_csv(\"C:\\\\Users\\\\Gabriel Castillo\\\\Desktop\\\\GITHUB GABRIEL\\\\EDA\\\\EDATheBridge\\\\Futbol\\\\data\\\\games.csv\")\n",
    "player_valuations = pd.read_csv(\"C:\\\\Users\\\\Gabriel Castillo\\\\Desktop\\\\GITHUB GABRIEL\\\\EDA\\\\EDATheBridge\\\\Futbol\\\\data\\\\player_valuations.csv\")\n",
    "players =  pd.read_csv(\"C:\\\\Users\\\\Gabriel Castillo\\\\Desktop\\\\GITHUB GABRIEL\\\\EDA\\\\EDATheBridge\\\\Futbol\\\\data\\\\players.csv\")"
   ]
  },
  {
   "cell_type": "code",
   "execution_count": 8,
   "metadata": {},
   "outputs": [
    {
     "data": {
      "text/html": [
       "<div>\n",
       "<style scoped>\n",
       "    .dataframe tbody tr th:only-of-type {\n",
       "        vertical-align: middle;\n",
       "    }\n",
       "\n",
       "    .dataframe tbody tr th {\n",
       "        vertical-align: top;\n",
       "    }\n",
       "\n",
       "    .dataframe thead th {\n",
       "        text-align: right;\n",
       "    }\n",
       "</style>\n",
       "<table border=\"1\" class=\"dataframe\">\n",
       "  <thead>\n",
       "    <tr style=\"text-align: right;\">\n",
       "      <th></th>\n",
       "      <th>player_id</th>\n",
       "      <th>game_id</th>\n",
       "      <th>appearance_id</th>\n",
       "      <th>competition_id</th>\n",
       "      <th>player_club_id</th>\n",
       "      <th>goals</th>\n",
       "      <th>assists</th>\n",
       "      <th>minutes_played</th>\n",
       "      <th>yellow_cards</th>\n",
       "      <th>red_cards</th>\n",
       "      <th>date</th>\n",
       "      <th>player_pretty_name</th>\n",
       "    </tr>\n",
       "  </thead>\n",
       "  <tbody>\n",
       "    <tr>\n",
       "      <th>0</th>\n",
       "      <td>52453</td>\n",
       "      <td>2483937</td>\n",
       "      <td>2483937_52453</td>\n",
       "      <td>RU1</td>\n",
       "      <td>28095</td>\n",
       "      <td>0</td>\n",
       "      <td>0</td>\n",
       "      <td>90</td>\n",
       "      <td>0</td>\n",
       "      <td>0</td>\n",
       "      <td>2014-08-08</td>\n",
       "      <td>Haris Handzic</td>\n",
       "    </tr>\n",
       "    <tr>\n",
       "      <th>1</th>\n",
       "      <td>67064</td>\n",
       "      <td>2479929</td>\n",
       "      <td>2479929_67064</td>\n",
       "      <td>RU1</td>\n",
       "      <td>28095</td>\n",
       "      <td>0</td>\n",
       "      <td>0</td>\n",
       "      <td>90</td>\n",
       "      <td>0</td>\n",
       "      <td>0</td>\n",
       "      <td>2014-08-03</td>\n",
       "      <td>Felicio Brown Forbes</td>\n",
       "    </tr>\n",
       "    <tr>\n",
       "      <th>2</th>\n",
       "      <td>67064</td>\n",
       "      <td>2483937</td>\n",
       "      <td>2483937_67064</td>\n",
       "      <td>RU1</td>\n",
       "      <td>28095</td>\n",
       "      <td>0</td>\n",
       "      <td>0</td>\n",
       "      <td>90</td>\n",
       "      <td>0</td>\n",
       "      <td>0</td>\n",
       "      <td>2014-08-08</td>\n",
       "      <td>Felicio Brown Forbes</td>\n",
       "    </tr>\n",
       "    <tr>\n",
       "      <th>3</th>\n",
       "      <td>67064</td>\n",
       "      <td>2484582</td>\n",
       "      <td>2484582_67064</td>\n",
       "      <td>RU1</td>\n",
       "      <td>28095</td>\n",
       "      <td>0</td>\n",
       "      <td>0</td>\n",
       "      <td>55</td>\n",
       "      <td>0</td>\n",
       "      <td>0</td>\n",
       "      <td>2014-08-13</td>\n",
       "      <td>Felicio Brown Forbes</td>\n",
       "    </tr>\n",
       "    <tr>\n",
       "      <th>4</th>\n",
       "      <td>67064</td>\n",
       "      <td>2485965</td>\n",
       "      <td>2485965_67064</td>\n",
       "      <td>RU1</td>\n",
       "      <td>28095</td>\n",
       "      <td>0</td>\n",
       "      <td>0</td>\n",
       "      <td>90</td>\n",
       "      <td>0</td>\n",
       "      <td>0</td>\n",
       "      <td>2014-08-16</td>\n",
       "      <td>Felicio Brown Forbes</td>\n",
       "    </tr>\n",
       "    <tr>\n",
       "      <th>...</th>\n",
       "      <td>...</td>\n",
       "      <td>...</td>\n",
       "      <td>...</td>\n",
       "      <td>...</td>\n",
       "      <td>...</td>\n",
       "      <td>...</td>\n",
       "      <td>...</td>\n",
       "      <td>...</td>\n",
       "      <td>...</td>\n",
       "      <td>...</td>\n",
       "      <td>...</td>\n",
       "      <td>...</td>\n",
       "    </tr>\n",
       "    <tr>\n",
       "      <th>1072827</th>\n",
       "      <td>369552</td>\n",
       "      <td>3837232</td>\n",
       "      <td>3837232_369552</td>\n",
       "      <td>NL1</td>\n",
       "      <td>200</td>\n",
       "      <td>0</td>\n",
       "      <td>0</td>\n",
       "      <td>83</td>\n",
       "      <td>0</td>\n",
       "      <td>0</td>\n",
       "      <td>2022-08-20</td>\n",
       "      <td>Luuk Brouwers</td>\n",
       "    </tr>\n",
       "    <tr>\n",
       "      <th>1072828</th>\n",
       "      <td>369552</td>\n",
       "      <td>3837391</td>\n",
       "      <td>3837391_369552</td>\n",
       "      <td>NL1</td>\n",
       "      <td>200</td>\n",
       "      <td>0</td>\n",
       "      <td>0</td>\n",
       "      <td>78</td>\n",
       "      <td>0</td>\n",
       "      <td>0</td>\n",
       "      <td>2022-08-28</td>\n",
       "      <td>Luuk Brouwers</td>\n",
       "    </tr>\n",
       "    <tr>\n",
       "      <th>1072829</th>\n",
       "      <td>369552</td>\n",
       "      <td>3837395</td>\n",
       "      <td>3837395_369552</td>\n",
       "      <td>NL1</td>\n",
       "      <td>200</td>\n",
       "      <td>0</td>\n",
       "      <td>0</td>\n",
       "      <td>90</td>\n",
       "      <td>0</td>\n",
       "      <td>0</td>\n",
       "      <td>2022-09-02</td>\n",
       "      <td>Luuk Brouwers</td>\n",
       "    </tr>\n",
       "    <tr>\n",
       "      <th>1072830</th>\n",
       "      <td>369552</td>\n",
       "      <td>3839703</td>\n",
       "      <td>3839703_369552</td>\n",
       "      <td>NL1</td>\n",
       "      <td>200</td>\n",
       "      <td>0</td>\n",
       "      <td>0</td>\n",
       "      <td>45</td>\n",
       "      <td>0</td>\n",
       "      <td>0</td>\n",
       "      <td>2022-09-11</td>\n",
       "      <td>Luuk Brouwers</td>\n",
       "    </tr>\n",
       "    <tr>\n",
       "      <th>1072831</th>\n",
       "      <td>369552</td>\n",
       "      <td>3839707</td>\n",
       "      <td>3839707_369552</td>\n",
       "      <td>NL1</td>\n",
       "      <td>200</td>\n",
       "      <td>0</td>\n",
       "      <td>0</td>\n",
       "      <td>1</td>\n",
       "      <td>0</td>\n",
       "      <td>0</td>\n",
       "      <td>2022-09-16</td>\n",
       "      <td>Luuk Brouwers</td>\n",
       "    </tr>\n",
       "  </tbody>\n",
       "</table>\n",
       "<p>1072832 rows × 12 columns</p>\n",
       "</div>"
      ],
      "text/plain": [
       "         player_id  game_id   appearance_id competition_id  player_club_id  \\\n",
       "0            52453  2483937   2483937_52453            RU1           28095   \n",
       "1            67064  2479929   2479929_67064            RU1           28095   \n",
       "2            67064  2483937   2483937_67064            RU1           28095   \n",
       "3            67064  2484582   2484582_67064            RU1           28095   \n",
       "4            67064  2485965   2485965_67064            RU1           28095   \n",
       "...            ...      ...             ...            ...             ...   \n",
       "1072827     369552  3837232  3837232_369552            NL1             200   \n",
       "1072828     369552  3837391  3837391_369552            NL1             200   \n",
       "1072829     369552  3837395  3837395_369552            NL1             200   \n",
       "1072830     369552  3839703  3839703_369552            NL1             200   \n",
       "1072831     369552  3839707  3839707_369552            NL1             200   \n",
       "\n",
       "         goals  assists  minutes_played  yellow_cards  red_cards        date  \\\n",
       "0            0        0              90             0          0  2014-08-08   \n",
       "1            0        0              90             0          0  2014-08-03   \n",
       "2            0        0              90             0          0  2014-08-08   \n",
       "3            0        0              55             0          0  2014-08-13   \n",
       "4            0        0              90             0          0  2014-08-16   \n",
       "...        ...      ...             ...           ...        ...         ...   \n",
       "1072827      0        0              83             0          0  2022-08-20   \n",
       "1072828      0        0              78             0          0  2022-08-28   \n",
       "1072829      0        0              90             0          0  2022-09-02   \n",
       "1072830      0        0              45             0          0  2022-09-11   \n",
       "1072831      0        0               1             0          0  2022-09-16   \n",
       "\n",
       "           player_pretty_name  \n",
       "0               Haris Handzic  \n",
       "1        Felicio Brown Forbes  \n",
       "2        Felicio Brown Forbes  \n",
       "3        Felicio Brown Forbes  \n",
       "4        Felicio Brown Forbes  \n",
       "...                       ...  \n",
       "1072827         Luuk Brouwers  \n",
       "1072828         Luuk Brouwers  \n",
       "1072829         Luuk Brouwers  \n",
       "1072830         Luuk Brouwers  \n",
       "1072831         Luuk Brouwers  \n",
       "\n",
       "[1072832 rows x 12 columns]"
      ]
     },
     "execution_count": 8,
     "metadata": {},
     "output_type": "execute_result"
    }
   ],
   "source": [
    "appearances"
   ]
  },
  {
   "cell_type": "code",
   "execution_count": 9,
   "metadata": {},
   "outputs": [
    {
     "data": {
      "text/plain": [
       "player_pretty_name\n",
       " Alpha Bdul Razak         0\n",
       "A J Soares                1\n",
       "Aaron Appindangoye        0\n",
       "Aaron Bastiaans           1\n",
       "Aaron Boupendza          22\n",
       "                         ..\n",
       "Zuriko Davitashvili       2\n",
       "Zvonimir Sarlija          1\n",
       "Zvonimir Vukic            0\n",
       "Zydrunas Karcemarskas     0\n",
       "Zymer Bytyqi             11\n",
       "Name: goals, Length: 18185, dtype: int64"
      ]
     },
     "execution_count": 9,
     "metadata": {},
     "output_type": "execute_result"
    }
   ],
   "source": [
    "s= appearances.groupby(by=\"player_pretty_name\")[\"goals\"].sum()\n",
    "s"
   ]
  },
  {
   "cell_type": "code",
   "execution_count": 10,
   "metadata": {},
   "outputs": [
    {
     "data": {
      "text/plain": [
       "97"
      ]
     },
     "execution_count": 10,
     "metadata": {},
     "output_type": "execute_result"
    }
   ],
   "source": [
    "s.loc[\"Radamel Falcao\"]"
   ]
  },
  {
   "cell_type": "code",
   "execution_count": 11,
   "metadata": {},
   "outputs": [
    {
     "data": {
      "text/plain": [
       "Index(['player_id', 'game_id', 'appearance_id', 'competition_id',\n",
       "       'player_club_id', 'goals', 'assists', 'minutes_played', 'yellow_cards',\n",
       "       'red_cards', 'date', 'player_pretty_name'],\n",
       "      dtype='object')"
      ]
     },
     "execution_count": 11,
     "metadata": {},
     "output_type": "execute_result"
    }
   ],
   "source": [
    "appearances.columns\n"
   ]
  },
  {
   "cell_type": "code",
   "execution_count": 12,
   "metadata": {},
   "outputs": [
    {
     "data": {
      "text/plain": [
       "Index(['club_id', 'name', 'pretty_name', 'domestic_competition_id',\n",
       "       'total_market_value', 'squad_size', 'average_age', 'foreigners_number',\n",
       "       'foreigners_percentage', 'national_team_players', 'stadium_name',\n",
       "       'stadium_seats', 'net_transfer_record', 'coach_name', 'url'],\n",
       "      dtype='object')"
      ]
     },
     "execution_count": 12,
     "metadata": {},
     "output_type": "execute_result"
    }
   ],
   "source": [
    "clubs.columns\n"
   ]
  },
  {
   "cell_type": "code",
   "execution_count": 13,
   "metadata": {},
   "outputs": [
    {
     "data": {
      "text/plain": [
       "Index(['competition_id', 'name', 'type', 'country_id', 'country_name',\n",
       "       'domestic_league_code', 'confederation', 'url', 'country_latitude',\n",
       "       'country_longitude'],\n",
       "      dtype='object')"
      ]
     },
     "execution_count": 13,
     "metadata": {},
     "output_type": "execute_result"
    }
   ],
   "source": [
    "competitions.columns\n"
   ]
  },
  {
   "cell_type": "code",
   "execution_count": 14,
   "metadata": {},
   "outputs": [
    {
     "data": {
      "text/plain": [
       "Index(['game_id', 'competition_code', 'season', 'round', 'date',\n",
       "       'home_club_id', 'away_club_id', 'home_club_goals', 'away_club_goals',\n",
       "       'home_club_position', 'away_club_position', 'stadium', 'attendance',\n",
       "       'referee', 'url', 'club_home_pretty_name', 'club_away_pretty_name',\n",
       "       'aggregate'],\n",
       "      dtype='object')"
      ]
     },
     "execution_count": 14,
     "metadata": {},
     "output_type": "execute_result"
    }
   ],
   "source": [
    "games.columns\n"
   ]
  },
  {
   "cell_type": "code",
   "execution_count": 15,
   "metadata": {},
   "outputs": [
    {
     "data": {
      "text/plain": [
       "Index(['player_id', 'date', 'market_value', 'datetime', 'dateweek',\n",
       "       'current_club_id', 'player_club_domestic_competition_id'],\n",
       "      dtype='object')"
      ]
     },
     "execution_count": 15,
     "metadata": {},
     "output_type": "execute_result"
    }
   ],
   "source": [
    "player_valuations.columns"
   ]
  },
  {
   "cell_type": "code",
   "execution_count": 16,
   "metadata": {},
   "outputs": [
    {
     "data": {
      "text/plain": [
       "Index(['player_id', 'last_season', 'current_club_id', 'name', 'pretty_name',\n",
       "       'country_of_birth', 'country_of_citizenship', 'date_of_birth',\n",
       "       'position', 'sub_position', 'foot', 'height_in_cm',\n",
       "       'market_value_in_gbp', 'highest_market_value_in_gbp', 'agent_name',\n",
       "       'image_url', 'url', 'club_id', 'domestic_competition_id', 'club_name',\n",
       "       'club_pretty_name'],\n",
       "      dtype='object')"
      ]
     },
     "execution_count": 16,
     "metadata": {},
     "output_type": "execute_result"
    }
   ],
   "source": [
    "players.columns"
   ]
  }
 ],
 "metadata": {
  "kernelspec": {
   "display_name": "Python 3.7.4 64-bit",
   "language": "python",
   "name": "python3"
  },
  "language_info": {
   "codemirror_mode": {
    "name": "ipython",
    "version": 3
   },
   "file_extension": ".py",
   "mimetype": "text/x-python",
   "name": "python",
   "nbconvert_exporter": "python",
   "pygments_lexer": "ipython3",
   "version": "3.7.4"
  },
  "orig_nbformat": 4,
  "vscode": {
   "interpreter": {
    "hash": "bf578ae2f05cd0bf79fc58c6d9676327b42cc704d3c90195b19dcfd7d863a264"
   }
  }
 },
 "nbformat": 4,
 "nbformat_minor": 2
}
