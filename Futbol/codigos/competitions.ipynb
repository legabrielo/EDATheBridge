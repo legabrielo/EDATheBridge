{
 "cells": [
  {
   "cell_type": "markdown",
   "metadata": {},
   "source": [
    "ESTE DATASET YA ESTA TERMINADO"
   ]
  },
  {
   "cell_type": "code",
   "execution_count": 1,
   "metadata": {},
   "outputs": [],
   "source": [
    "import pandas as pd\n",
    "import matplotlib.pyplot as plt"
   ]
  },
  {
   "cell_type": "code",
   "execution_count": 2,
   "metadata": {},
   "outputs": [
    {
     "data": {
      "text/html": [
       "<div>\n",
       "<style scoped>\n",
       "    .dataframe tbody tr th:only-of-type {\n",
       "        vertical-align: middle;\n",
       "    }\n",
       "\n",
       "    .dataframe tbody tr th {\n",
       "        vertical-align: top;\n",
       "    }\n",
       "\n",
       "    .dataframe thead th {\n",
       "        text-align: right;\n",
       "    }\n",
       "</style>\n",
       "<table border=\"1\" class=\"dataframe\">\n",
       "  <thead>\n",
       "    <tr style=\"text-align: right;\">\n",
       "      <th></th>\n",
       "      <th>competition_id</th>\n",
       "      <th>name</th>\n",
       "      <th>type</th>\n",
       "      <th>country_id</th>\n",
       "      <th>country_name</th>\n",
       "      <th>domestic_league_code</th>\n",
       "      <th>confederation</th>\n",
       "      <th>url</th>\n",
       "      <th>country_latitude</th>\n",
       "      <th>country_longitude</th>\n",
       "    </tr>\n",
       "  </thead>\n",
       "  <tbody>\n",
       "    <tr>\n",
       "      <th>0</th>\n",
       "      <td>L1</td>\n",
       "      <td>bundesliga</td>\n",
       "      <td>first_tier</td>\n",
       "      <td>40</td>\n",
       "      <td>Germany</td>\n",
       "      <td>L1</td>\n",
       "      <td>europa</td>\n",
       "      <td>https://www.transfermarkt.co.uk/bundesliga/sta...</td>\n",
       "      <td>51.163818</td>\n",
       "      <td>10.447831</td>\n",
       "    </tr>\n",
       "    <tr>\n",
       "      <th>1</th>\n",
       "      <td>DFB</td>\n",
       "      <td>dfb-pokal</td>\n",
       "      <td>domestic_cup</td>\n",
       "      <td>40</td>\n",
       "      <td>Germany</td>\n",
       "      <td>L1</td>\n",
       "      <td>europa</td>\n",
       "      <td>https://www.transfermarkt.co.uk/dfb-pokal/star...</td>\n",
       "      <td>51.163818</td>\n",
       "      <td>10.447831</td>\n",
       "    </tr>\n",
       "    <tr>\n",
       "      <th>2</th>\n",
       "      <td>DFL</td>\n",
       "      <td>dfl-supercup</td>\n",
       "      <td>domestic_super_cup</td>\n",
       "      <td>40</td>\n",
       "      <td>Germany</td>\n",
       "      <td>L1</td>\n",
       "      <td>europa</td>\n",
       "      <td>https://www.transfermarkt.co.uk/dfl-supercup/s...</td>\n",
       "      <td>51.163818</td>\n",
       "      <td>10.447831</td>\n",
       "    </tr>\n",
       "    <tr>\n",
       "      <th>3</th>\n",
       "      <td>NL1</td>\n",
       "      <td>eredivisie</td>\n",
       "      <td>first_tier</td>\n",
       "      <td>122</td>\n",
       "      <td>Netherlands</td>\n",
       "      <td>NL1</td>\n",
       "      <td>europa</td>\n",
       "      <td>https://www.transfermarkt.co.uk/eredivisie/sta...</td>\n",
       "      <td>52.243498</td>\n",
       "      <td>5.634323</td>\n",
       "    </tr>\n",
       "    <tr>\n",
       "      <th>4</th>\n",
       "      <td>NLP</td>\n",
       "      <td>toto-knvb-beker</td>\n",
       "      <td>domestic_cup</td>\n",
       "      <td>122</td>\n",
       "      <td>Netherlands</td>\n",
       "      <td>NL1</td>\n",
       "      <td>europa</td>\n",
       "      <td>https://www.transfermarkt.co.uk/toto-knvb-beke...</td>\n",
       "      <td>52.243498</td>\n",
       "      <td>5.634323</td>\n",
       "    </tr>\n",
       "  </tbody>\n",
       "</table>\n",
       "</div>"
      ],
      "text/plain": [
       "  competition_id             name                type  country_id  \\\n",
       "0             L1       bundesliga          first_tier          40   \n",
       "1            DFB        dfb-pokal        domestic_cup          40   \n",
       "2            DFL     dfl-supercup  domestic_super_cup          40   \n",
       "3            NL1       eredivisie          first_tier         122   \n",
       "4            NLP  toto-knvb-beker        domestic_cup         122   \n",
       "\n",
       "  country_name domestic_league_code confederation  \\\n",
       "0      Germany                   L1        europa   \n",
       "1      Germany                   L1        europa   \n",
       "2      Germany                   L1        europa   \n",
       "3  Netherlands                  NL1        europa   \n",
       "4  Netherlands                  NL1        europa   \n",
       "\n",
       "                                                 url  country_latitude  \\\n",
       "0  https://www.transfermarkt.co.uk/bundesliga/sta...         51.163818   \n",
       "1  https://www.transfermarkt.co.uk/dfb-pokal/star...         51.163818   \n",
       "2  https://www.transfermarkt.co.uk/dfl-supercup/s...         51.163818   \n",
       "3  https://www.transfermarkt.co.uk/eredivisie/sta...         52.243498   \n",
       "4  https://www.transfermarkt.co.uk/toto-knvb-beke...         52.243498   \n",
       "\n",
       "   country_longitude  \n",
       "0          10.447831  \n",
       "1          10.447831  \n",
       "2          10.447831  \n",
       "3           5.634323  \n",
       "4           5.634323  "
      ]
     },
     "execution_count": 2,
     "metadata": {},
     "output_type": "execute_result"
    }
   ],
   "source": [
    "competitions = pd.read_csv(\"C:\\\\Users\\\\Gabriel Castillo\\\\Desktop\\\\GITHUB GABRIEL\\\\EDA\\\\EDATheBridge\\\\Futbol\\\\data\\\\vieja\\\\competitions.csv\")\n",
    "competitions.head()"
   ]
  },
  {
   "cell_type": "code",
   "execution_count": 3,
   "metadata": {},
   "outputs": [
    {
     "data": {
      "text/html": [
       "<div>\n",
       "<style scoped>\n",
       "    .dataframe tbody tr th:only-of-type {\n",
       "        vertical-align: middle;\n",
       "    }\n",
       "\n",
       "    .dataframe tbody tr th {\n",
       "        vertical-align: top;\n",
       "    }\n",
       "\n",
       "    .dataframe thead th {\n",
       "        text-align: right;\n",
       "    }\n",
       "</style>\n",
       "<table border=\"1\" class=\"dataframe\">\n",
       "  <thead>\n",
       "    <tr style=\"text-align: right;\">\n",
       "      <th></th>\n",
       "      <th>competition_id</th>\n",
       "      <th>name</th>\n",
       "      <th>type</th>\n",
       "      <th>country_id</th>\n",
       "      <th>country_name</th>\n",
       "      <th>domestic_league_code</th>\n",
       "      <th>confederation</th>\n",
       "      <th>url</th>\n",
       "      <th>country_latitude</th>\n",
       "      <th>country_longitude</th>\n",
       "    </tr>\n",
       "  </thead>\n",
       "  <tbody>\n",
       "    <tr>\n",
       "      <th>0</th>\n",
       "      <td>ES1</td>\n",
       "      <td>laliga</td>\n",
       "      <td>first_tier</td>\n",
       "      <td>157</td>\n",
       "      <td>Spain</td>\n",
       "      <td>ES1</td>\n",
       "      <td>europa</td>\n",
       "      <td>https://www.transfermarkt.co.uk/laliga/startse...</td>\n",
       "      <td>39.326068</td>\n",
       "      <td>-4.837979</td>\n",
       "    </tr>\n",
       "  </tbody>\n",
       "</table>\n",
       "</div>"
      ],
      "text/plain": [
       "  competition_id    name        type  country_id country_name  \\\n",
       "0            ES1  laliga  first_tier         157        Spain   \n",
       "\n",
       "  domestic_league_code confederation  \\\n",
       "0                  ES1        europa   \n",
       "\n",
       "                                                 url  country_latitude  \\\n",
       "0  https://www.transfermarkt.co.uk/laliga/startse...         39.326068   \n",
       "\n",
       "   country_longitude  \n",
       "0          -4.837979  "
      ]
     },
     "execution_count": 3,
     "metadata": {},
     "output_type": "execute_result"
    }
   ],
   "source": [
    "competitions[competitions [\"competition_id\"]==\"ES1\"].reset_index(0).drop([\"index\"], axis=1)\n",
    "# SE USA PARA VER EL PAIS Y LA COMPETICION "
   ]
  },
  {
   "cell_type": "code",
   "execution_count": 6,
   "metadata": {},
   "outputs": [],
   "source": [
    "competitions.to_csv(\"C:\\\\Users\\\\Gabriel Castillo\\\\Desktop\\\\GITHUB GABRIEL\\\\EDA\\\\EDATheBridge\\\\Futbol\\\\data\\\\filtrada\\\\competitions.csv\")\n",
    "# SE CREA EL NUEVO CSV Y SE GUARDA"
   ]
  }
 ],
 "metadata": {
  "kernelspec": {
   "display_name": "Python 3.7.4 64-bit",
   "language": "python",
   "name": "python3"
  },
  "language_info": {
   "codemirror_mode": {
    "name": "ipython",
    "version": 3
   },
   "file_extension": ".py",
   "mimetype": "text/x-python",
   "name": "python",
   "nbconvert_exporter": "python",
   "pygments_lexer": "ipython3",
   "version": "3.7.4"
  },
  "orig_nbformat": 4,
  "vscode": {
   "interpreter": {
    "hash": "bf578ae2f05cd0bf79fc58c6d9676327b42cc704d3c90195b19dcfd7d863a264"
   }
  }
 },
 "nbformat": 4,
 "nbformat_minor": 2
}
